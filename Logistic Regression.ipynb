{
 "cells": [
  {
   "cell_type": "markdown",
   "id": "83f22b2c",
   "metadata": {},
   "source": [
    "# LOGISTIC REGRESSION"
   ]
  },
  {
   "cell_type": "markdown",
   "id": "ca532bdb",
   "metadata": {},
   "source": [
    "### CASE STUDY<br>\n",
    "#### INTRODUCTION \n",
    "Social network advertising, also social media targeting, is a group of terms that are used to describe<br>\n",
    "forms of online advertising that focus on social networking services. One of the major benefits of this<br> \n",
    "type of advertising is that advertisers can take advantage of the users’ demographic information and target<br>\n",
    "their ads appropriately.Advantages are advertisers can reach users who are interested in their products,<br> \n",
    "allows for detailed analysis and reporting, information gathered is real, not from statistical projections,<br>\n",
    "does not access IP-addresses of the users.<br>\n",
    "\n",
    "#### OBJECTIVE<br>\n",
    "Our field study concerns the dependence of purchase of product on gender , age , estimated salary of a person with given userID.Basically we need to build a logistic regression model which could predict whether a user is going to purchase based upon gender,age and salary\n",
    "\n",
    "#### DATA<br>\n",
    "Data contains 5 columns.<br>\n",
    "\n",
    "   1. UserID - Each person has a unique ID from which we can identify the person uniquely.<br>\n",
    "\n",
    "   2. Gender - Person can be male or female. This field is very important for our hypothesis.<br>\n",
    "\n",
    "   3. Age - Age of the person. Because our product can be useful to some ages only.<br>\n",
    "\n",
    "   4. EstimatedSalary - This column contains salary of a person as salary can affect the shopping of a person.<br>\n",
    "\n",
    "   5. Purchased - Contains two numbers ‘0’ or ‘1’. ‘0’ means not purchased and ‘1’ means purchased.This variable is our   dependent variable.<br>\n"
   ]
  },
  {
   "cell_type": "markdown",
   "id": "063a59c0",
   "metadata": {},
   "source": [
    "#### Import Packages\n",
    "Pandas - pandas is a fast, powerful, flexible and easy to use open source data analysis and manipulation tool, built on top of the Python programming language.<br>\n",
    "\n",
    "Numpy - NumPy is a library for the Python programming language, adding support for large, multi-dimensional arrays and matrices, along with a large collection of high-level mathematical functions to operate on these arrays.<br>\n",
    "\n",
    "matplotlib & Seaborn - There are a comprehensive library for creating static, animated, and interactive visualizations in Python.<br>\n",
    "\n",
    "<br>"
   ]
  },
  {
   "cell_type": "code",
   "execution_count": 1,
   "id": "d50d3e4c",
   "metadata": {},
   "outputs": [],
   "source": [
    "import pandas as pd\n",
    "import numpy as np\n",
    "import seaborn as sns\n",
    "import matplotlib.pyplot as plt\n",
    "%matplotlib inline"
   ]
  },
  {
   "cell_type": "markdown",
   "id": "6368175e",
   "metadata": {},
   "source": [
    "#### Reading data from csv file"
   ]
  },
  {
   "cell_type": "code",
   "execution_count": null,
   "id": "3bc31c63",
   "metadata": {},
   "outputs": [],
   "source": [
    "social_media_ad_df = pd.read_csv('Social_Network_Ads.csv')\n",
    "social_media_ad_df.head()"
   ]
  },
  {
   "cell_type": "markdown",
   "id": "ebb4493a",
   "metadata": {},
   "source": [
    "#### Get the basic information from the dataset like type,null values, column names etc"
   ]
  },
  {
   "cell_type": "code",
   "execution_count": null,
   "id": "4ff4b651",
   "metadata": {},
   "outputs": [],
   "source": [
    "social_media_ad_df.info()"
   ]
  },
  {
   "cell_type": "markdown",
   "id": "695cc986",
   "metadata": {},
   "source": [
    "#### Get the dimensions of the dataset"
   ]
  },
  {
   "cell_type": "code",
   "execution_count": null,
   "id": "8d4af3b4",
   "metadata": {},
   "outputs": [],
   "source": [
    "social_media_ad_df.shape"
   ]
  },
  {
   "cell_type": "markdown",
   "id": "b7940b05",
   "metadata": {},
   "source": [
    "## EDA(EXPLORATORY DATA ANALYSIS)"
   ]
  },
  {
   "cell_type": "markdown",
   "id": "be3d30bd",
   "metadata": {},
   "source": [
    "### Univariate Analysis"
   ]
  },
  {
   "cell_type": "code",
   "execution_count": null,
   "id": "a19fdc5e",
   "metadata": {},
   "outputs": [],
   "source": [
    "social_media_ad_df['Purchased_cat'] = np.where(social_media_ad_df['Purchased']==1,\"Yes\",\"No\")"
   ]
  },
  {
   "cell_type": "markdown",
   "id": "dd2346e2",
   "metadata": {},
   "source": [
    "#### Distribution of number of people purchased \n",
    "Number of people who didnot purchased were more than the number of people who purchased"
   ]
  },
  {
   "cell_type": "code",
   "execution_count": null,
   "id": "1a04dbc1",
   "metadata": {},
   "outputs": [],
   "source": [
    "plt.figure(figsize=(6,4))\n",
    "plt.title(\"Distribution of the number of people purchased\")\n",
    "sns.countplot(x=social_media_ad_df['Purchased_cat'],data=social_media_ad_df)\n",
    "plt.show()"
   ]
  },
  {
   "cell_type": "code",
   "execution_count": null,
   "id": "cfdeffeb",
   "metadata": {},
   "outputs": [],
   "source": [
    "social_media_ad_df['Purchased'].value_counts(normalize=True)*100"
   ]
  },
  {
   "cell_type": "markdown",
   "id": "2ae5bc30",
   "metadata": {},
   "source": [
    "#### Distribution by Gender\n",
    "In the sample dataset there are more records of female customer"
   ]
  },
  {
   "cell_type": "code",
   "execution_count": null,
   "id": "6207b927",
   "metadata": {},
   "outputs": [],
   "source": [
    "plt.figure(figsize=(6,4))\n",
    "plt.title(\"Distribution of Gender\")\n",
    "sns.countplot(x=social_media_ad_df['Gender'],data=social_media_ad_df)\n",
    "plt.show()"
   ]
  },
  {
   "cell_type": "markdown",
   "id": "0618b804",
   "metadata": {},
   "source": [
    "#### Distribution of Salary\n",
    "\n",
    "Salary is normaly distributed with mean and median around 75000 cad"
   ]
  },
  {
   "cell_type": "code",
   "execution_count": null,
   "id": "6eab72c5",
   "metadata": {},
   "outputs": [],
   "source": [
    "sns.displot(social_media_ad_df['EstimatedSalary'],kind=\"kde\")\n",
    "plt.title(\"Distribution of Salary\")"
   ]
  },
  {
   "cell_type": "markdown",
   "id": "e8d37ce4",
   "metadata": {},
   "source": [
    "#### Distribution of Age\n"
   ]
  },
  {
   "cell_type": "code",
   "execution_count": 157,
   "id": "6f695606",
   "metadata": {},
   "outputs": [
    {
     "data": {
      "text/plain": [
       "Text(0.5, 1.0, 'Distribution of Age')"
      ]
     },
     "execution_count": 157,
     "metadata": {},
     "output_type": "execute_result"
    },
    {
     "data": {
      "image/png": "[encoded data removed]",
      "text/plain": [
       "<Figure size 360x360 with 1 Axes>"
      ]
     },
     "metadata": {
      "needs_background": "light"
     },
     "output_type": "display_data"
    }
   ],
   "source": [
    "sns.displot(social_media_ad_df['Age'],kind=\"kde\")\n",
    "plt.title(\"Distribution of Age\")"
   ]
  },
  {
   "cell_type": "markdown",
   "id": "eb3d3351",
   "metadata": {},
   "source": [
    "#### BIvariate Analysis"
   ]
  },
  {
   "cell_type": "markdown",
   "id": "8f84fb5f",
   "metadata": {},
   "source": [
    "#### Age vs Purchased"
   ]
  },
  {
   "cell_type": "code",
   "execution_count": 158,
   "id": "26c03de0",
   "metadata": {},
   "outputs": [
    {
     "data": {
      "image/png": "[encoded data removed]",
      "text/plain": [
       "<Figure size 432x288 with 1 Axes>"
      ]
     },
     "metadata": {
      "needs_background": "light"
     },
     "output_type": "display_data"
    }
   ],
   "source": [
    "plt.figure(figsize=(6,4))\n",
    "plt.title(\"Age vs Purchased\")\n",
    "sns.boxplot(x=social_media_ad_df['Age'],y=social_media_ad_df['Purchased_cat'],data=social_media_ad_df)\n",
    "plt.show()"
   ]
  },
  {
   "cell_type": "markdown",
   "id": "415684b8",
   "metadata": {},
   "source": [
    "#### Salary vs Purchased"
   ]
  },
  {
   "cell_type": "code",
   "execution_count": 159,
   "id": "ea85f0cf",
   "metadata": {},
   "outputs": [
    {
     "data": {
      "image/png": "[encoded data removed]",
      "text/plain": [
       "<Figure size 432x288 with 1 Axes>"
      ]
     },
     "metadata": {
      "needs_background": "light"
     },
     "output_type": "display_data"
    }
   ],
   "source": [
    "plt.figure(figsize=(6,4))\n",
    "plt.title(\"Salary vs Purchased\")\n",
    "sns.boxplot(x=social_media_ad_df['EstimatedSalary'],y=social_media_ad_df['Purchased_cat'],data=social_media_ad_df)\n",
    "plt.show()"
   ]
  },
  {
   "cell_type": "markdown",
   "id": "936805ec",
   "metadata": {},
   "source": [
    "#### Age vs Salary vs Purchased"
   ]
  },
  {
   "cell_type": "code",
   "execution_count": 160,
   "id": "33d4cdcb",
   "metadata": {},
   "outputs": [
    {
     "data": {
      "image/png": "[encoded data removed]",
      "text/plain": [
       "<Figure size 576x432 with 1 Axes>"
      ]
     },
     "metadata": {
      "needs_background": "light"
     },
     "output_type": "display_data"
    }
   ],
   "source": [
    "plt.figure(figsize=(8,6))\n",
    "plt.title(\"Age vs Salary vs Purchased\")\n",
    "sns.scatterplot(x=social_media_ad_df['Age'],y=social_media_ad_df['EstimatedSalary'],hue=social_media_ad_df['Purchased_cat'])\n",
    "plt.show()"
   ]
  },
  {
   "cell_type": "markdown",
   "id": "6a116236",
   "metadata": {},
   "source": [
    "#### Gender vs Purchased"
   ]
  },
  {
   "cell_type": "code",
   "execution_count": 173,
   "id": "c7334163",
   "metadata": {},
   "outputs": [
    {
     "data": {
      "text/plain": [
       "<AxesSubplot:title={'center':'Gender vs Purchased'}, xlabel='Gender', ylabel='count'>"
      ]
     },
     "execution_count": 173,
     "metadata": {},
     "output_type": "execute_result"
    },
    {
     "data": {
      "image/png": "[encoded data removed]",
      "text/plain": [
       "<Figure size 432x288 with 1 Axes>"
      ]
     },
     "metadata": {
      "needs_background": "light"
     },
     "output_type": "display_data"
    }
   ],
   "source": [
    "df = social_media_ad_df.groupby(['Gender','Purchased_cat']).agg(count = ('User ID','count'))\n",
    "df = df.reset_index()\n",
    "plt.title(\"Gender vs Purchased\")\n",
    "sns.barplot(x=df['Gender'],y='count',data=df,hue=df['Purchased_cat'])"
   ]
  },
  {
   "cell_type": "markdown",
   "id": "4820d05f",
   "metadata": {},
   "source": [
    "### Observations"
   ]
  },
  {
   "cell_type": "markdown",
   "id": "083275fd",
   "metadata": {},
   "source": [
    "1. Female has higher probability of purchasing than male\n",
    "2. Older users with higher income have a higher probability to purchase"
   ]
  },
  {
   "cell_type": "markdown",
   "id": "32419818",
   "metadata": {},
   "source": [
    "#### Feature Scaling"
   ]
  },
  {
   "cell_type": "code",
   "execution_count": 162,
   "id": "69207275",
   "metadata": {},
   "outputs": [],
   "source": [
    "temp1_df = social_media_ad_df[['User ID','Age','EstimatedSalary']]\n",
    "temp1_df.set_index('User ID',inplace=True)\n",
    "temp2_df = social_media_ad_df[['User ID','Gender','Purchased']]\n",
    "temp2_df.set_index('User ID',inplace=True)"
   ]
  },
  {
   "cell_type": "code",
   "execution_count": 163,
   "id": "1ced981f",
   "metadata": {},
   "outputs": [],
   "source": [
    "from sklearn.preprocessing import StandardScaler\n",
    "scaler = StandardScaler()\n",
    "temp1_df = pd.DataFrame(scaler.fit_transform(temp1_df),index=temp1_df.index,columns=temp1_df.columns)"
   ]
  },
  {
   "cell_type": "code",
   "execution_count": 164,
   "id": "05bb1bc1",
   "metadata": {},
   "outputs": [
    {
     "data": {
      "text/html": [
       "<div>\n",
       "<style scoped>\n",
       "    .dataframe tbody tr th:only-of-type {\n",
       "        vertical-align: middle;\n",
       "    }\n",
       "\n",
       "    .dataframe tbody tr th {\n",
       "        vertical-align: top;\n",
       "    }\n",
       "\n",
       "    .dataframe thead th {\n",
       "        text-align: right;\n",
       "    }\n",
       "</style>\n",
       "<table border=\"1\" class=\"dataframe\">\n",
       "  <thead>\n",
       "    <tr style=\"text-align: right;\">\n",
       "      <th></th>\n",
       "      <th>Age</th>\n",
       "      <th>EstimatedSalary</th>\n",
       "      <th>Gender</th>\n",
       "      <th>Purchased</th>\n",
       "    </tr>\n",
       "    <tr>\n",
       "      <th>User ID</th>\n",
       "      <th></th>\n",
       "      <th></th>\n",
       "      <th></th>\n",
       "      <th></th>\n",
       "    </tr>\n",
       "  </thead>\n",
       "  <tbody>\n",
       "    <tr>\n",
       "      <th>15624510</th>\n",
       "      <td>-1.781797</td>\n",
       "      <td>-1.490046</td>\n",
       "      <td>Male</td>\n",
       "      <td>0</td>\n",
       "    </tr>\n",
       "    <tr>\n",
       "      <th>15810944</th>\n",
       "      <td>-0.253587</td>\n",
       "      <td>-1.460681</td>\n",
       "      <td>Male</td>\n",
       "      <td>0</td>\n",
       "    </tr>\n",
       "    <tr>\n",
       "      <th>15668575</th>\n",
       "      <td>-1.113206</td>\n",
       "      <td>-0.785290</td>\n",
       "      <td>Female</td>\n",
       "      <td>0</td>\n",
       "    </tr>\n",
       "    <tr>\n",
       "      <th>15603246</th>\n",
       "      <td>-1.017692</td>\n",
       "      <td>-0.374182</td>\n",
       "      <td>Female</td>\n",
       "      <td>0</td>\n",
       "    </tr>\n",
       "    <tr>\n",
       "      <th>15804002</th>\n",
       "      <td>-1.781797</td>\n",
       "      <td>0.183751</td>\n",
       "      <td>Male</td>\n",
       "      <td>0</td>\n",
       "    </tr>\n",
       "  </tbody>\n",
       "</table>\n",
       "</div>"
      ],
      "text/plain": [
       "               Age  EstimatedSalary  Gender  Purchased\n",
       "User ID                                               \n",
       "15624510 -1.781797        -1.490046    Male          0\n",
       "15810944 -0.253587        -1.460681    Male          0\n",
       "15668575 -1.113206        -0.785290  Female          0\n",
       "15603246 -1.017692        -0.374182  Female          0\n",
       "15804002 -1.781797         0.183751    Male          0"
      ]
     },
     "execution_count": 164,
     "metadata": {},
     "output_type": "execute_result"
    }
   ],
   "source": [
    "masterdata_df = pd.concat([temp1_df, temp2_df], axis=1, join=\"inner\")\n",
    "masterdata_df.head()"
   ]
  },
  {
   "cell_type": "markdown",
   "id": "f7cdcd96",
   "metadata": {},
   "source": [
    "#### Creating Dummy Variable"
   ]
  },
  {
   "cell_type": "code",
   "execution_count": 165,
   "id": "bce52e0f",
   "metadata": {},
   "outputs": [],
   "source": [
    "map_dic = {'Female':0,'Male':1}\n",
    "masterdata_df['Gender_numerical'] = masterdata_df['Gender'].map(map_dic)\n",
    "masterdata_df = masterdata_df.reset_index()\n",
    "masterdata_df = masterdata_df[['Age','EstimatedSalary','Gender_numerical','Purchased']]"
   ]
  },
  {
   "cell_type": "markdown",
   "id": "d590f815",
   "metadata": {},
   "source": [
    "## Model Building"
   ]
  },
  {
   "cell_type": "markdown",
   "id": "e66d1a02",
   "metadata": {},
   "source": [
    "#### Preparing the Dataset "
   ]
  },
  {
   "cell_type": "code",
   "execution_count": 166,
   "id": "cb02c9e1",
   "metadata": {},
   "outputs": [],
   "source": [
    "X = masterdata_df.drop(columns=\"Purchased\")\n",
    "y = masterdata_df['Purchased']"
   ]
  },
  {
   "cell_type": "markdown",
   "id": "079dfcd1",
   "metadata": {},
   "source": [
    "#### Dividing the data into training and test"
   ]
  },
  {
   "cell_type": "code",
   "execution_count": 167,
   "id": "853bcfd1",
   "metadata": {},
   "outputs": [],
   "source": [
    "from sklearn.model_selection import train_test_split\n",
    "X_train, X_test, y_train, y_test = train_test_split(X, y, test_size=0.2, random_state=2)"
   ]
  },
  {
   "cell_type": "markdown",
   "id": "2e12da6a",
   "metadata": {},
   "source": [
    "#### Performing Logistic Regression & Model Evaluation"
   ]
  },
  {
   "cell_type": "markdown",
   "id": "aa38bd79",
   "metadata": {},
   "source": [
    "Explanation of some of the terms in the summary table:\n",
    "\n",
    "1) <b>coef</b> : the coefficients of the independent variables in the regression equation.<br>\n",
    "2) <b>Log-Likelihood</b> : the natural logarithm of the Maximum Likelihood Estimation(MLE) function.<br>\n",
    "    MLE is the optimization process of finding the set of parameters that result in the best fit.<br>\n",
    "3) <b>LL-Null</b> : the value of log-likelihood of the model when no independent variables<br>\n",
    "    included(only an intercept is included).<br>\n",
    "4) <b>Pseudo R-squ</b> : a substitute for the R-squared value in Least Squares linear regression.<br>\n",
    "    It is the ratio of the log-likelihood of the null model to that of the full model.<br>"
   ]
  },
  {
   "cell_type": "code",
   "execution_count": 168,
   "id": "9d7638e0",
   "metadata": {},
   "outputs": [
    {
     "name": "stdout",
     "output_type": "stream",
     "text": [
      "Optimization terminated successfully.\n",
      "         Current function value: 0.398346\n",
      "         Iterations 7\n",
      "                         Results: Logit\n",
      "=================================================================\n",
      "Model:              Logit            Pseudo R-squared: 0.383     \n",
      "Dependent Variable: Purchased        AIC:              260.9416  \n",
      "Date:               2021-11-17 00:10 BIC:              272.2466  \n",
      "No. Observations:   320              Log-Likelihood:   -127.47   \n",
      "Df Model:           2                LL-Null:          -206.56   \n",
      "Df Residuals:       317              LLR p-value:      4.5010e-35\n",
      "Converged:          1.0000           Scale:            1.0000    \n",
      "No. Iterations:     7.0000                                       \n",
      "-----------------------------------------------------------------\n",
      "                   Coef.  Std.Err.    z    P>|z|   [0.025  0.975]\n",
      "-----------------------------------------------------------------\n",
      "Age                2.0149   0.2510  8.0281 0.0000  1.5230  2.5068\n",
      "EstimatedSalary    1.1494   0.1999  5.7486 0.0000  0.7575  1.5413\n",
      "Gender_numerical  -1.0067   0.2308 -4.3624 0.0000 -1.4589 -0.5544\n",
      "=================================================================\n",
      "\n"
     ]
    }
   ],
   "source": [
    "import statsmodels.api as sm\n",
    "logit_model=sm.Logit(y_train,X_train)\n",
    "result=logit_model.fit()\n",
    "print(result.summary2())"
   ]
  },
  {
   "cell_type": "markdown",
   "id": "9f990b20",
   "metadata": {},
   "source": [
    "#### Fitting the Logistic Regression model"
   ]
  },
  {
   "cell_type": "code",
   "execution_count": 169,
   "id": "e0431cbd",
   "metadata": {},
   "outputs": [
    {
     "data": {
      "text/plain": [
       "LogisticRegression()"
      ]
     },
     "execution_count": 169,
     "metadata": {},
     "output_type": "execute_result"
    }
   ],
   "source": [
    "from sklearn.linear_model import LogisticRegression\n",
    "lr_model = LogisticRegression()\n",
    "lr_model.fit(X_train, y_train)"
   ]
  },
  {
   "cell_type": "markdown",
   "id": "d828a82b",
   "metadata": {},
   "source": [
    "#### Predictions"
   ]
  },
  {
   "cell_type": "code",
   "execution_count": 170,
   "id": "55448a87",
   "metadata": {},
   "outputs": [],
   "source": [
    "y_pred = lr_model.predict(X_test)"
   ]
  },
  {
   "cell_type": "markdown",
   "id": "968247ee",
   "metadata": {},
   "source": [
    "### Evaluation"
   ]
  },
  {
   "cell_type": "markdown",
   "id": "b89fa888",
   "metadata": {},
   "source": [
    "#### Confusion matrix and classification report"
   ]
  },
  {
   "cell_type": "markdown",
   "id": "5e6aa670",
   "metadata": {},
   "source": [
    "<img src=\"Capture.JPG\" style=\"float: center;\" alt=\"Confusion matrix\" width=\"500\"/>\n",
    "<b>Positive (P)</b>: Observation is positive (eg. Purchased).<br>\n",
    "<b>Negative (n)</b>: Observation is not positive (eg. not Purchased).<br>\n",
    "<b>True Positive (TP)</b>: Outcome where the model correctly predicts the positive class.<br>\n",
    "<b>True Negative (TN)</b>: Outcome where the model correctly predicts the negative class.<br>\n",
    "<b>False Positive (FP)</b>: Also called a type 1 error, an outcome where the model incorrectly predicts the positive class when it is actually negative.<br>\n",
    "<b>False Negative (FN)</b>: Also called a type 2 error, an outcome where the model incorrectly predicts the negative class when it is actually positive.<br>\n",
    "\n",
    "<b>Precision</b> : Also called Positive predictive value<br>\n",
    "The ratio of correct positive predictions to the total predicted positives.<br>\n",
    "TP/TP +FP<br>\n",
    "\n",
    "<b>Recall</b> : Also called Sensitivity, Probability of Detection, True Positive Rate<br>\n",
    "The ratio of correct positive predictions to the total positives examples.<br>\n",
    "TP/TP + FN<br>\n",
    "\n",
    "<b>F1 Score</b> :The F1 score is a measure of a test’s accuracy — it is the harmonic mean of precision and recall. <br>\n",
    "It can have a maximum score of 1 (perfect precision and recall) and a minimum of 0. Overall, it is a measure<br>\n",
    "of the preciseness and robustness of your model.<br>\n",
    "2*(precision+recall)/(precision + recall)\n",
    "\n",
    "<b>Accuracy</b>: This is simply equal to the proportion of predictions that the model classified correctly.<br>\n",
    "(TP + TN)/(TP + TN + FP +FN)<br>\n",
    "\n",
    "<b>Macro average</b> is the average of precision/recall/f1-score.\n",
    "\n",
    "<b>Weighted average</b> is just the weighted average of precision/recall/f1-score."
   ]
  },
  {
   "cell_type": "code",
   "execution_count": 176,
   "id": "9b786068",
   "metadata": {},
   "outputs": [
    {
     "name": "stdout",
     "output_type": "stream",
     "text": [
      "              precision    recall  f1-score   support\n",
      "\n",
      "           0       0.94      0.79      0.86        57\n",
      "           1       0.62      0.87      0.73        23\n",
      "\n",
      "    accuracy                           0.81        80\n",
      "   macro avg       0.78      0.83      0.79        80\n",
      "weighted avg       0.85      0.81      0.82        80\n",
      "\n"
     ]
    },
    {
     "data": {
      "image/png": "[encoded data removed]",
      "text/plain": [
       "<Figure size 432x288 with 2 Axes>"
      ]
     },
     "metadata": {
      "needs_background": "light"
     },
     "output_type": "display_data"
    }
   ],
   "source": [
    "from sklearn import metrics \n",
    "from sklearn.metrics import classification_report, confusion_matrix\n",
    "matrix = confusion_matrix(y_pred,y_test)\n",
    "sns.heatmap(matrix, annot=True, fmt=\"d\")\n",
    "plt.title('Confusion Matrix')\n",
    "plt.xlabel('Actual')\n",
    "plt.ylabel('Predicted')\n",
    "print(classification_report(y_pred,y_test))"
   ]
  },
  {
   "cell_type": "code",
   "execution_count": null,
   "id": "8b9b9b3a",
   "metadata": {},
   "outputs": [],
   "source": []
  },
  {
   "cell_type": "code",
   "execution_count": null,
   "id": "90edf293",
   "metadata": {},
   "outputs": [],
   "source": []
  }
 ],
 "metadata": {
  "kernelspec": {
   "display_name": "Python 3 (ipykernel)",
   "language": "python",
   "name": "python3"
  },
  "language_info": {
   "codemirror_mode": {
    "name": "ipython",
    "version": 3
   },
   "file_extension": ".py",
   "mimetype": "text/x-python",
   "name": "python",
   "nbconvert_exporter": "python",
   "pygments_lexer": "ipython3",
   "version": "3.7.11"
  }
 },
 "nbformat": 4,
 "nbformat_minor": 5
}
